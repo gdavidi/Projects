{
 "cells": [
  {
   "cell_type": "code",
   "execution_count": 2,
   "metadata": {},
   "outputs": [],
   "source": [
    "import requests\n",
    "from bs4 import BeautifulSoup\n",
    "from datetime import datetime, date\n",
    "import pandas as pd\n",
    "from concurrent.futures import ThreadPoolExecutor\n",
    "import calendar"
   ]
  },
  {
   "cell_type": "code",
   "execution_count": 3,
   "metadata": {},
   "outputs": [
    {
     "name": "stdout",
     "output_type": "stream",
     "text": [
      "Nissan's cars page url is: https://www.ad.co.il/car?sp261=13903\n"
     ]
    }
   ],
   "source": [
    "# URL for Nissan's car listings on the ad.co.il website\n",
    "url = 'https://www.ad.co.il/car?sp261=13903'\n",
    "print(\"Nissan's cars page url is:\", url)"
   ]
  },
  {
   "cell_type": "code",
   "execution_count": 4,
   "metadata": {},
   "outputs": [],
   "source": [
    "# Fetch the HTML content of the main Nissan page\n",
    "html = requests.get(url)\n",
    "nissan_page = BeautifulSoup(html.content, 'html.parser')"
   ]
  },
  {
   "cell_type": "code",
   "execution_count": 5,
   "metadata": {},
   "outputs": [],
   "source": [
    "# Function to get posts from a specific page\n",
    "def get_posts(page):\n",
    "    url = f\"https://www.ad.co.il/car?sp261=13903&pageindex={page}\"\n",
    "    response = requests.get(url)\n",
    "    if response.status_code != 200:\n",
    "        print(\"Error: status code\", response.status_code)\n",
    "        return None, None\n",
    "    \n",
    "    page_soup = BeautifulSoup(response.content, 'html.parser')\n",
    "    posts = page_soup.find('div', {'class': \"content mt-3\"}).find_all('div', {'class': 'card-body p-md-3'})\n",
    "    posts_links_list = [\"https://www.ad.co.il\" + post.find('a').get('href') for post in posts]\n",
    "    \n",
    "    posts_image_num_list = []\n",
    "    for post in posts:\n",
    "        data_images = post.get(\"data-images\")\n",
    "        if data_images is not None:\n",
    "            posts_image_num_list.append(int(data_images))\n",
    "        else:\n",
    "            posts_image_num_list.append(0)  # Default value if no images are present\n",
    "\n",
    "    return posts_links_list, posts_image_num_list"
   ]
  },
  {
   "cell_type": "code",
   "execution_count": 6,
   "metadata": {},
   "outputs": [],
   "source": [
    "# Function to get the total number of pages\n",
    "def amount_of_pages():\n",
    "    pages_n = nissan_page.find('h6', {'class': \"ms-2 d-none d-sm-flex fs--1\"})\n",
    "    return int(pages_n.string.split(' ')[-1].split(')')[0])"
   ]
  },
  {
   "cell_type": "code",
   "execution_count": 7,
   "metadata": {},
   "outputs": [],
   "source": [
    "# Function to fetch all posts across all pages\n",
    "def fetch_all_pages():\n",
    "    all_links = []\n",
    "    all_images = []\n",
    "    with ThreadPoolExecutor() as executor:\n",
    "        futures = [executor.submit(get_posts, page) for page in range(1, amount_of_pages() + 1)]\n",
    "        for future in futures:\n",
    "            links, images = future.result()\n",
    "            if links and images:\n",
    "                all_links.extend(links)\n",
    "                all_images.extend(images)\n",
    "    return all_links, all_images"
   ]
  },
  {
   "cell_type": "code",
   "execution_count": 8,
   "metadata": {},
   "outputs": [],
   "source": [
    "# Function to fetch detailed information for a specific post\n",
    "def fetch_post_details(link):\n",
    "    post_page_response = requests.get(link)\n",
    "    post_page = BeautifulSoup(post_page_response.content, 'html.parser')\n",
    "    main_info = list(post_page.find('table', {'class': \"table table-sm mb-4\"}).find_all(\"td\"))\n",
    "    sub_info = post_page.find('div', {'class': \"order-first order-sm-0\"})\n",
    "    \n",
    "    details = {\n",
    "        'model': str(post_page.find('div', {'class': \"d-flex justify-content-between\"}).find_all('h2')[0].string),\n",
    "        'Price': replace_comma(str(post_page.find('div', {'class': \"d-flex justify-content-between\"}).find_all('h2')[1].string).split(' ')[0]),\n",
    "        'Description': desc(sub_info),\n",
    "        'Cre_date': cre_repub_dates(sub_info)[0],\n",
    "        'Repub_date': cre_repub_dates(sub_info)[1]\n",
    "    }\n",
    "    info_dict = info_to_dict(main_info)\n",
    "    updated_dict = update_or_add_keys(info_dict)\n",
    "    details.update(updated_dict)\n",
    "    return details"
   ]
  },
  {
   "cell_type": "code",
   "execution_count": 9,
   "metadata": {},
   "outputs": [],
   "source": [
    "# Helper function to replace commas in strings (used for prices)\n",
    "def replace_comma(string):\n",
    "    return int(string.replace(\",\", \"\"))"
   ]
  },
  {
   "cell_type": "code",
   "execution_count": 10,
   "metadata": {},
   "outputs": [],
   "source": [
    "# Function to convert list of info from the post to a dictionary\n",
    "def info_to_dict(info):\n",
    "    keys_list = []\n",
    "    values_list = []\n",
    "    for index, value in enumerate(info):\n",
    "        if index % 2 == 0:\n",
    "            keys_list.append(str(value.string.strip()))\n",
    "        else:\n",
    "            values_list.append(str(value.string.strip()))\n",
    "    return dict(zip(keys_list, values_list))"
   ]
  },
  {
   "cell_type": "code",
   "execution_count": 11,
   "metadata": {},
   "outputs": [],
   "source": [
    "# Function to update keys in the dictionary from Hebrew to English\n",
    "def update_or_add_keys(dictionary):\n",
    "    heb_keys = ['שנה', 'יד', 'ת. הילוכים', 'נפח', 'סוג מנוע', 'ק\"מ', 'טסט עד', 'צבע', 'בעלות קודמת', 'בעלות נוכחית', 'אזור', 'עיר']\n",
    "    en_keys = ['Year', 'Hand', 'Gear', 'capacity_Engine', 'Engine_type', 'Km', 'Test', 'Color', 'Prev_ownership', 'Curr_ownership', 'Area', 'City']\n",
    "    for heb_key, en_key in zip(heb_keys, en_keys):\n",
    "        if heb_key in dictionary:\n",
    "            dictionary[en_key] = dictionary.pop(heb_key)\n",
    "        else:\n",
    "            dictionary[en_key] = None\n",
    "    return dictionary"
   ]
  },
  {
   "cell_type": "code",
   "execution_count": 12,
   "metadata": {},
   "outputs": [],
   "source": [
    "# Function to fetch sub-info details of a post\n",
    "def link_to_info_sub(link):\n",
    "    post_page_response = requests.get(link)\n",
    "    post_page = BeautifulSoup(post_page_response.content, 'html.parser')\n",
    "    return post_page.find('div', {'class': \"order-first order-sm-0\"})"
   ]
  },
  {
   "cell_type": "code",
   "execution_count": 13,
   "metadata": {},
   "outputs": [],
   "source": [
    "# Function to extract and clean the description from sub-info\n",
    "def desc(sub_info):\n",
    "    if sub_info:\n",
    "        post_description = sub_info.find('div', {'class': 'p-3'})\n",
    "        if post_description:\n",
    "            return post_description.find('p', {'class': 'text-word-break'}).get_text().strip().replace('\\n', '')\n",
    "    return None"
   ]
  },
  {
   "cell_type": "code",
   "execution_count": 14,
   "metadata": {},
   "outputs": [],
   "source": [
    "# Function to extract creation and re-publication dates\n",
    "def cre_repub_dates(sub_info):\n",
    "    if sub_info:\n",
    "        post_dates = sub_info.find('div', {'class': 'd-flex flex-row align-items-center justify-content-center flex-wrap'}).find_all('div', {'class': 'px-3'})\n",
    "        cre_date_string = str(post_dates[0].string).split(\" \")[-1]\n",
    "        repub_date_string = str(post_dates[1].string).split(\" \")[-1]\n",
    "        dates_list = [datetime.strptime(cre_date_string, \"%d/%m/%Y\")]\n",
    "        dates_list.append(datetime.strptime(repub_date_string, \"%d/%m/%Y\") if repub_date_string else None)\n",
    "        return dates_list\n",
    "    return [None, None]"
   ]
  },
  {
   "cell_type": "code",
   "execution_count": 15,
   "metadata": {},
   "outputs": [],
   "source": [
    "# Function to calculate days until a given date (for the \"Test\" field)\n",
    "def days_until(date_str):\n",
    "    if date_str:\n",
    "        given_date = datetime.strptime(date_str, \"%m/%Y\")\n",
    "        _, last_day = calendar.monthrange(given_date.year, given_date.month)\n",
    "        given_date = given_date.replace(day=last_day)\n",
    "        current_date = date.today()\n",
    "        return (given_date.date() - current_date).days\n",
    "    return None"
   ]
  },
  {
   "cell_type": "code",
   "execution_count": 16,
   "metadata": {},
   "outputs": [],
   "source": [
    "# Function to correct data types in the dataframe\n",
    "def type_correction(df):\n",
    "    df['Year'] = df['Year'].astype(int)\n",
    "    df['Price'] = df['Price'].astype(float)\n",
    "    df['Hand'] = df['Hand'].astype(int)\n",
    "    df['Gear'] = df['Gear'].astype(str)\n",
    "    df['Color'] = df['Color'].astype(str)\n",
    "    df['Prev_ownership'] = df['Prev_ownership'].astype(str)\n",
    "    df['Curr_ownership'] = df['Curr_ownership'].astype(str)\n",
    "    df['Area'] = df['Area'].astype(str)\n",
    "    df['City'] = df['City'].astype(str)\n",
    "    df['Test'] = df['Test'].astype('Int64')\n",
    "    try:\n",
    "        df['capacity_Engine'] = df['capacity_Engine'].str.replace(',', '').astype(int)\n",
    "        df['Km'] = df['Km'].str.replace(',', '').astype(int)\n",
    "    except Exception:\n",
    "        pass\n",
    "    return df"
   ]
  },
  {
   "cell_type": "code",
   "execution_count": 17,
   "metadata": {},
   "outputs": [],
   "source": [
    "# Main code\n",
    "all_links, all_images = fetch_all_pages()\n",
    "\n",
    "data = []\n",
    "with ThreadPoolExecutor() as executor:\n",
    "    futures = [executor.submit(fetch_post_details, link) for link in all_links]\n",
    "    for future in futures:\n",
    "        data.append(future.result())\n",
    "\n",
    "df = pd.DataFrame(data)\n",
    "df['Pic_num'] = all_images\n",
    "df.insert(0, 'manufactor', ['ניסאן'] * len(df))\n",
    "\n",
    "df['Test'] = df['Test'].apply(days_until)\n",
    "df = type_correction(df)\n",
    "df = df.drop(columns=['תת דגם'])\n",
    "df.to_csv('adNissanData.csv', index=False, encoding='utf-8-sig')"
   ]
  }
 ],
 "metadata": {
  "kernelspec": {
   "display_name": "Python 3",
   "language": "python",
   "name": "python3"
  },
  "language_info": {
   "codemirror_mode": {
    "name": "ipython",
    "version": 3
   },
   "file_extension": ".py",
   "mimetype": "text/x-python",
   "name": "python",
   "nbconvert_exporter": "python",
   "pygments_lexer": "ipython3",
   "version": "3.12.3"
  }
 },
 "nbformat": 4,
 "nbformat_minor": 2
}
